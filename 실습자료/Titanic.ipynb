{
  "nbformat": 4,
  "nbformat_minor": 0,
  "metadata": {
    "colab": {
      "private_outputs": true,
      "provenance": [],
      "authorship_tag": "ABX9TyOYn5/FuEjgqca0POTC7P8l",
      "include_colab_link": true
    },
    "kernelspec": {
      "name": "python3",
      "display_name": "Python 3"
    },
    "language_info": {
      "name": "python"
    }
  },
  "cells": [
    {
      "cell_type": "markdown",
      "metadata": {
        "id": "view-in-github",
        "colab_type": "text"
      },
      "source": [
        "<a href=\"https://colab.research.google.com/github/UsernameisKoo/GDG_ML_Session_week2/blob/main/Titanic.ipynb\" target=\"_parent\"><img src=\"https://colab.research.google.com/assets/colab-badge.svg\" alt=\"Open In Colab\"/></a>"
      ]
    },
    {
      "cell_type": "code",
      "source": [
        "import pandas as pd\n",
        "import numpy as np\n",
        "import matplotlib.pyplot as plt"
      ],
      "metadata": {
        "id": "wOWsWeVXivPb"
      },
      "execution_count": null,
      "outputs": []
    },
    {
      "cell_type": "markdown",
      "source": [
        "# **Load dataset**"
      ],
      "metadata": {
        "id": "WdXfaGykjg3V"
      }
    },
    {
      "cell_type": "markdown",
      "source": [
        "### 문제 1\n",
        " 테스트 데이터, 훈련 데이터를 불러오시오."
      ],
      "metadata": {
        "id": "82hanZRVi8dD"
      }
    },
    {
      "cell_type": "code",
      "source": [],
      "metadata": {
        "id": "pKNcRi9vlBRg"
      },
      "execution_count": null,
      "outputs": []
    },
    {
      "cell_type": "markdown",
      "source": [
        "### 문제 2\n",
        " 상위 5행을 출력하시오."
      ],
      "metadata": {
        "id": "IpJRzXN3jD48"
      }
    },
    {
      "cell_type": "code",
      "source": [],
      "metadata": {
        "id": "M3vfeACElBuO"
      },
      "execution_count": null,
      "outputs": []
    },
    {
      "cell_type": "markdown",
      "source": [
        "### 문제 3\n",
        " index를 PassengerId로 지정하시오.\n"
      ],
      "metadata": {
        "id": "TYlBZYRDjIaC"
      }
    },
    {
      "cell_type": "code",
      "source": [],
      "metadata": {
        "id": "TBoTbBsAlCJw"
      },
      "execution_count": null,
      "outputs": []
    },
    {
      "cell_type": "markdown",
      "source": [
        "#### 문제 3 - 1\n",
        " 상위 5행을 출력하시오."
      ],
      "metadata": {
        "id": "u1fmwnlrjMh8"
      }
    },
    {
      "cell_type": "code",
      "source": [],
      "metadata": {
        "id": "TdNJBgwDlChF"
      },
      "execution_count": null,
      "outputs": []
    },
    {
      "cell_type": "markdown",
      "source": [
        "# **Boolean Indexing**"
      ],
      "metadata": {
        "id": "amCf2ecXjMkp"
      }
    },
    {
      "cell_type": "markdown",
      "source": [
        "### 문제 4\n",
        " Age가 60 이상인 사람들 중 가장 위의 3명의 Name과 Age만을 출력하시오."
      ],
      "metadata": {
        "id": "2PTmeXMDjMnW"
      }
    },
    {
      "cell_type": "code",
      "source": [],
      "metadata": {
        "id": "_ejlYAUwlC7c"
      },
      "execution_count": null,
      "outputs": []
    },
    {
      "cell_type": "markdown",
      "source": [
        "# **정렬 - sort_values()**"
      ],
      "metadata": {
        "id": "q90DSWa3jMtc"
      }
    },
    {
      "cell_type": "markdown",
      "source": [
        "### 문제 5\n",
        " Pclass와 Name으로 오름차순으로 나열하시오."
      ],
      "metadata": {
        "id": "SeEqwRVLjyxE"
      }
    },
    {
      "cell_type": "code",
      "source": [],
      "metadata": {
        "id": "0TQMq1ZNj4Jf"
      },
      "execution_count": null,
      "outputs": []
    },
    {
      "cell_type": "markdown",
      "source": [
        "# **Groupby**\n"
      ],
      "metadata": {
        "id": "07FITuHBj7MJ"
      }
    },
    {
      "cell_type": "markdown",
      "source": [
        "### 문제 6\n",
        " Pclass에 따른 생존율을 확인하시오."
      ],
      "metadata": {
        "id": "Ur61kInzj4pX"
      }
    },
    {
      "cell_type": "code",
      "source": [],
      "metadata": {
        "id": "U2aAOQi6lDpf"
      },
      "execution_count": null,
      "outputs": []
    },
    {
      "cell_type": "markdown",
      "source": [
        "# **결손 데이터 처리하기**"
      ],
      "metadata": {
        "id": "VjA7CtrMlbZT"
      }
    },
    {
      "cell_type": "markdown",
      "source": [
        "### 문제 7\n",
        " 테스트 데이터의 결측치(NULL값)의 개수를 확인하시오."
      ],
      "metadata": {
        "id": "eSGpRIPQldjY"
      }
    },
    {
      "cell_type": "code",
      "source": [],
      "metadata": {
        "id": "j4icIHfNlcxV"
      },
      "execution_count": null,
      "outputs": []
    },
    {
      "cell_type": "markdown",
      "source": [
        "### 문제 8\n",
        " 훈련 데이터의 결측치의 비율을 백분율(%)로 나타내시오."
      ],
      "metadata": {
        "id": "K5Zv3b8ZlsMa"
      }
    },
    {
      "cell_type": "code",
      "source": [],
      "metadata": {
        "id": "01EUEeJElzH5"
      },
      "execution_count": null,
      "outputs": []
    },
    {
      "cell_type": "markdown",
      "source": [
        "### 문제 9\n",
        " fillna()로 NaN값을 C000로 대체"
      ],
      "metadata": {
        "id": "7Xz1s20ilybI"
      }
    },
    {
      "cell_type": "code",
      "source": [],
      "metadata": {
        "id": "vxBz3jy7l8IQ"
      },
      "execution_count": null,
      "outputs": []
    },
    {
      "cell_type": "markdown",
      "source": [
        "# **Drop**"
      ],
      "metadata": {
        "id": "pajLDEoSl8qP"
      }
    },
    {
      "cell_type": "markdown",
      "source": [
        "### 문제 10\n",
        "### Cabin 피처를 삭제해버리시오."
      ],
      "metadata": {
        "id": "fRDjIb_umEQB"
      }
    },
    {
      "cell_type": "code",
      "source": [],
      "metadata": {
        "id": "VVHrMQR6mGtR"
      },
      "execution_count": null,
      "outputs": []
    },
    {
      "cell_type": "markdown",
      "source": [
        "### 문제 11\n",
        " 성별 원-핫 인코딩을 하시오.( male - 0, female - 1 )"
      ],
      "metadata": {
        "id": "XsxGPIXqm-QG"
      }
    },
    {
      "cell_type": "code",
      "source": [],
      "metadata": {
        "id": "gZwsKoZenGP-"
      },
      "execution_count": null,
      "outputs": []
    },
    {
      "cell_type": "markdown",
      "source": [
        "### 문제 12\n",
        " 생존율 그래프를 그려보시오."
      ],
      "metadata": {
        "id": "qQaRd2XomcHk"
      }
    },
    {
      "cell_type": "code",
      "source": [],
      "metadata": {
        "id": "X1fI1AQLq4VA"
      },
      "execution_count": null,
      "outputs": []
    }
  ]
}
