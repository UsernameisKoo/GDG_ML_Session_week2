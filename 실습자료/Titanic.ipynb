{
  "nbformat": 4,
  "nbformat_minor": 0,
  "metadata": {
    "colab": {
      "private_outputs": true,
      "provenance": [],
      "authorship_tag": "ABX9TyMNIuhaDSyk8RPr3YwZUD3Y",
      "include_colab_link": true
    },
    "kernelspec": {
      "name": "python3",
      "display_name": "Python 3"
    },
    "language_info": {
      "name": "python"
    }
  },
  "cells": [
    {
      "cell_type": "markdown",
      "metadata": {
        "id": "view-in-github",
        "colab_type": "text"
      },
      "source": [
        "<a href=\"https://colab.research.google.com/github/UsernameisKoo/GDG_ML_Session_week2/blob/main/%EC%8B%A4%EC%8A%B5%EC%9E%90%EB%A3%8C/Titanic.ipynb\" target=\"_parent\"><img src=\"https://colab.research.google.com/assets/colab-badge.svg\" alt=\"Open In Colab\"/></a>"
      ]
    },
    {
      "cell_type": "code",
      "source": [
        "import pandas as pd\n",
        "import numpy as np\n",
        "import matplotlib.pyplot as plt"
      ],
      "metadata": {
        "id": "wOWsWeVXivPb"
      },
      "execution_count": null,
      "outputs": []
    },
    {
      "cell_type": "markdown",
      "source": [
        "# **Load dataset**"
      ],
      "metadata": {
        "id": "WdXfaGykjg3V"
      }
    },
    {
      "cell_type": "markdown",
      "source": [
        "### 문제 1\n",
        " 테스트 데이터, 훈련 데이터를 불러오시오."
      ],
      "metadata": {
        "id": "82hanZRVi8dD"
      }
    },
    {
      "cell_type": "code",
      "source": [],
      "metadata": {
        "id": "uV7UN52Dxpw6"
      },
      "execution_count": null,
      "outputs": []
    },
    {
      "cell_type": "markdown",
      "source": [
        "### 문제 2\n",
        " 상위 5행을 출력하시오."
      ],
      "metadata": {
        "id": "IpJRzXN3jD48"
      }
    },
    {
      "cell_type": "code",
      "source": [],
      "metadata": {
        "id": "M3vfeACElBuO"
      },
      "execution_count": null,
      "outputs": []
    },
    {
      "cell_type": "markdown",
      "source": [
        "### 문제 3\n",
        " index를 PassengerId로 지정하시오.\n"
      ],
      "metadata": {
        "id": "TYlBZYRDjIaC"
      }
    },
    {
      "cell_type": "code",
      "source": [],
      "metadata": {
        "id": "TBoTbBsAlCJw"
      },
      "execution_count": null,
      "outputs": []
    },
    {
      "cell_type": "markdown",
      "source": [
        "#### 문제 3 - 1\n",
        " 상위 5행을 출력하여 확인하시오."
      ],
      "metadata": {
        "id": "u1fmwnlrjMh8"
      }
    },
    {
      "cell_type": "code",
      "source": [],
      "metadata": {
        "id": "TdNJBgwDlChF"
      },
      "execution_count": null,
      "outputs": []
    },
    {
      "cell_type": "markdown",
      "source": [
        "# **결손 데이터 처리하기**"
      ],
      "metadata": {
        "id": "VjA7CtrMlbZT"
      }
    },
    {
      "cell_type": "markdown",
      "source": [
        "### 문제 4\n",
        " 테스트 데이터의 결측치(NULL값)의 개수를 확인하시오."
      ],
      "metadata": {
        "id": "eSGpRIPQldjY"
      }
    },
    {
      "cell_type": "code",
      "source": [],
      "metadata": {
        "id": "j4icIHfNlcxV"
      },
      "execution_count": null,
      "outputs": []
    },
    {
      "cell_type": "markdown",
      "source": [
        "### 문제 5\n",
        " fillna()로 NaN값을 C000로 대체"
      ],
      "metadata": {
        "id": "7Xz1s20ilybI"
      }
    },
    {
      "cell_type": "code",
      "source": [],
      "metadata": {
        "id": "vxBz3jy7l8IQ"
      },
      "execution_count": null,
      "outputs": []
    },
    {
      "cell_type": "markdown",
      "source": [
        "# **Drop**"
      ],
      "metadata": {
        "id": "pajLDEoSl8qP"
      }
    },
    {
      "cell_type": "markdown",
      "source": [
        "### 문제 6\n",
        "### Cabin 피처를 삭제해버리시오."
      ],
      "metadata": {
        "id": "fRDjIb_umEQB"
      }
    },
    {
      "cell_type": "code",
      "source": [],
      "metadata": {
        "id": "VVHrMQR6mGtR"
      },
      "execution_count": null,
      "outputs": []
    },
    {
      "cell_type": "markdown",
      "source": [
        "#### 문제 6 - 1\n",
        " 상위 5행을 출력하여 확인하시오."
      ],
      "metadata": {
        "id": "2px1xldou0LQ"
      }
    },
    {
      "cell_type": "code",
      "source": [],
      "metadata": {
        "id": "Rf5NxBqMu0_x"
      },
      "execution_count": null,
      "outputs": []
    }
  ]
}