{
  "nbformat": 4,
  "nbformat_minor": 0,
  "metadata": {
    "colab": {
      "private_outputs": true,
      "provenance": [],
      "toc_visible": true,
      "mount_file_id": "1kff6hBYzBD0oC9a5JaKLlmH7fnYMdFFf",
      "authorship_tag": "ABX9TyOm6YbkMWaYxpf8TDvO4UPe",
      "include_colab_link": true
    },
    "kernelspec": {
      "name": "python3",
      "display_name": "Python 3"
    },
    "language_info": {
      "name": "python"
    }
  },
  "cells": [
    {
      "cell_type": "markdown",
      "metadata": {
        "id": "view-in-github",
        "colab_type": "text"
      },
      "source": [
        "<a href=\"https://colab.research.google.com/github/UsernameisKoo/GDG_ML_Session_week2/blob/main/%EC%8B%A4%EC%8A%B5%EC%9E%90%EB%A3%8C/Titanic_answer.ipynb\" target=\"_parent\"><img src=\"https://colab.research.google.com/assets/colab-badge.svg\" alt=\"Open In Colab\"/></a>"
      ]
    },
    {
      "cell_type": "code",
      "execution_count": null,
      "metadata": {
        "id": "S0U1OOltih8p"
      },
      "outputs": [],
      "source": []
    },
    {
      "cell_type": "code",
      "source": [
        "import pandas as pd\n",
        "import numpy as np\n",
        "import matplotlib.pyplot as plt"
      ],
      "metadata": {
        "id": "wOWsWeVXivPb"
      },
      "execution_count": null,
      "outputs": []
    },
    {
      "cell_type": "markdown",
      "source": [
        "# **Load dataset**"
      ],
      "metadata": {
        "id": "WdXfaGykjg3V"
      }
    },
    {
      "cell_type": "markdown",
      "source": [
        "### 문제 1\n",
        " 테스트 데이터, 훈련 데이터를 불러오시오."
      ],
      "metadata": {
        "id": "82hanZRVi8dD"
      }
    },
    {
      "cell_type": "code",
      "source": [
        "test_df = pd.read_csv(\"/content/drive/MyDrive/Colab Notebooks/Github/ML_Session_week2/test.csv\")\n",
        "train_df = pd.read_csv(\"/content/drive/MyDrive/Colab Notebooks/Github/ML_Session_week2/train.csv\")\n",
        "# 경로는 본인 경로로 설정하셔야 합니다!!"
      ],
      "metadata": {
        "id": "pKNcRi9vlBRg"
      },
      "execution_count": null,
      "outputs": []
    },
    {
      "cell_type": "markdown",
      "source": [
        "### 문제 2\n",
        " 상위 5행을 출력하시오."
      ],
      "metadata": {
        "id": "IpJRzXN3jD48"
      }
    },
    {
      "cell_type": "code",
      "source": [
        "train_df.head()"
      ],
      "metadata": {
        "id": "M3vfeACElBuO"
      },
      "execution_count": null,
      "outputs": []
    },
    {
      "cell_type": "markdown",
      "source": [
        "### 문제 3\n",
        " index를 PassengerId로 지정하시오.\n"
      ],
      "metadata": {
        "id": "TYlBZYRDjIaC"
      }
    },
    {
      "cell_type": "code",
      "source": [
        "train_df.set_index('PassengerId', inplace=True)\n",
        "test_df.set_index('PassengerId', inplace=True)"
      ],
      "metadata": {
        "id": "TBoTbBsAlCJw"
      },
      "execution_count": null,
      "outputs": []
    },
    {
      "cell_type": "markdown",
      "source": [
        "#### 문제 3 - 1\n",
        " 상위 5행을 출력하여 확인하시오."
      ],
      "metadata": {
        "id": "u1fmwnlrjMh8"
      }
    },
    {
      "cell_type": "code",
      "source": [
        "test_df.head(5)"
      ],
      "metadata": {
        "id": "TdNJBgwDlChF"
      },
      "execution_count": null,
      "outputs": []
    },
    {
      "cell_type": "markdown",
      "source": [
        "# **결손 데이터 처리하기**"
      ],
      "metadata": {
        "id": "VjA7CtrMlbZT"
      }
    },
    {
      "cell_type": "markdown",
      "source": [
        "### 문제 4\n",
        " 테스트 데이터의 결측치(NULL값)의 개수를 확인하시오."
      ],
      "metadata": {
        "id": "eSGpRIPQldjY"
      }
    },
    {
      "cell_type": "code",
      "source": [
        "test_df.isnull().sum()"
      ],
      "metadata": {
        "id": "j4icIHfNlcxV"
      },
      "execution_count": null,
      "outputs": []
    },
    {
      "cell_type": "markdown",
      "source": [
        "### 문제 5\n",
        " fillna()로 NaN값을 C000로 대체"
      ],
      "metadata": {
        "id": "7Xz1s20ilybI"
      }
    },
    {
      "cell_type": "code",
      "source": [
        "train_df['Cabin'] = train_df['Cabin'].fillna('C000')\n",
        "train_df.isnull().sum()"
      ],
      "metadata": {
        "id": "vxBz3jy7l8IQ"
      },
      "execution_count": null,
      "outputs": []
    },
    {
      "cell_type": "markdown",
      "source": [
        "# **Drop**"
      ],
      "metadata": {
        "id": "pajLDEoSl8qP"
      }
    },
    {
      "cell_type": "markdown",
      "source": [
        "\n",
        "### 문제 6\n",
        "### Cabin 피처를 삭제해버리시오."
      ],
      "metadata": {
        "id": "fRDjIb_umEQB"
      }
    },
    {
      "cell_type": "code",
      "source": [
        "del test_df[\"Cabin\"]\n",
        "del train_df[\"Cabin\"]"
      ],
      "metadata": {
        "id": "VVHrMQR6mGtR"
      },
      "execution_count": null,
      "outputs": []
    },
    {
      "cell_type": "markdown",
      "source": [
        "#### 문제 6 - 1\n",
        " 상위 5행을 출력하여 확인하시오."
      ],
      "metadata": {
        "id": "6UTg-a5_taxF"
      }
    },
    {
      "cell_type": "code",
      "source": [
        "train_df.head()"
      ],
      "metadata": {
        "id": "qT9vdjk7qw26"
      },
      "execution_count": null,
      "outputs": []
    }
  ]
}