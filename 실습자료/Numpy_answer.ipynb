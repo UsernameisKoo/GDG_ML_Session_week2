{
  "nbformat": 4,
  "nbformat_minor": 0,
  "metadata": {
    "colab": {
      "private_outputs": true,
      "provenance": [],
      "mount_file_id": "1jjgDHE82-XUfPF6NyxsnoePSJ2JSiXOk",
      "authorship_tag": "ABX9TyMEgbrV2eVs+mCcaZvuvlhn",
      "include_colab_link": true
    },
    "kernelspec": {
      "name": "python3",
      "display_name": "Python 3"
    },
    "language_info": {
      "name": "python"
    }
  },
  "cells": [
    {
      "cell_type": "markdown",
      "metadata": {
        "id": "view-in-github",
        "colab_type": "text"
      },
      "source": [
        "<a href=\"https://colab.research.google.com/github/UsernameisKoo/GDG_ML_Session_week2/blob/main/%EC%8B%A4%EC%8A%B5%EC%9E%90%EB%A3%8C/Numpy_answer.ipynb\" target=\"_parent\"><img src=\"https://colab.research.google.com/assets/colab-badge.svg\" alt=\"Open In Colab\"/></a>"
      ]
    },
    {
      "cell_type": "markdown",
      "source": [
        "#Numpy\n",
        "\n"
      ],
      "metadata": {
        "id": "Fc0_SxPSWk5k"
      }
    },
    {
      "cell_type": "markdown",
      "source": [
        "## 문제 - 1\n",
        "### 2부터 10까지의 값을 가진 3x3 넘파이 배열을 생성해 보자."
      ],
      "metadata": {
        "id": "1YIqeJV3W8Gc"
      }
    },
    {
      "cell_type": "code",
      "source": [
        "import numpy as np\n",
        "\n",
        "# 방법1 : 2~10까지의 값 가지고 있는 3x3 2차원 배열 생성\n",
        "a = np.array([[2, 3, 4], [5, 6, 7],[8, 9, 10]])\n",
        "print(a)\n",
        "\n",
        "# 방법2 : 2부터 10까지 값을 가지는 1차원 배열 생성, 배열을 3x3 형태로 shape 변경\n",
        "b = np.arange(2, 11).reshape(3, 3)\n",
        "print(b)0"
      ],
      "metadata": {
        "id": "GU6z48jbaViS"
      },
      "execution_count": null,
      "outputs": []
    },
    {
      "cell_type": "markdown",
      "source": [
        "## 문제 - 2\n",
        "### 다음 tensor의 차원과 데이터 수를 구하시오.\n",
        "```python\n",
        "tensor = [[[1,2,3,4],[1,2,3,4],[1,2,3,4]],\n",
        "          [[1,2,3,4],[1,2,3,4],[1,2,3,4]],\n",
        "          [[1,2,3,4],[1,2,3,4],[1,2,3,4]],\n",
        "         [[1,2,3,4],[1,2,3,4],[1,2,3,4]]]\n",
        "```"
      ],
      "metadata": {
        "id": "obP2a5T-W8Oa"
      }
    },
    {
      "cell_type": "code",
      "source": [
        "tensor = [[[1,2,3,4],[1,2,3,4],[1,2,3,4]],\n",
        "          [[1,2,3,4],[1,2,3,4],[1,2,3,4]],\n",
        "          [[1,2,3,4],[1,2,3,4],[1,2,3,4]],\n",
        "         [[1,2,3,4],[1,2,3,4],[1,2,3,4]]]\n",
        "\n",
        "# 차원\n",
        "print(np.array(tensor).ndim)\n",
        "# 데이터 수 -> (4,3,4) -> 4x3x4 -> 48\n",
        "print(np.array(tensor).size)"
      ],
      "metadata": {
        "id": "fOpiZt5WaWp5"
      },
      "execution_count": null,
      "outputs": []
    },
    {
      "cell_type": "markdown",
      "source": [
        "## 문제 - 3\n",
        "### 다음 행렬들을 생성하여 행렬곱을 한 결과를 출력하시오.\n",
        "\n",
        "<img src='https://drive.google.com/uc?export=view&id=1BbEayoxCByPQn5NtruiDalr5tYfjZihl' width=600>\n"
      ],
      "metadata": {
        "id": "LBQt8brIWx7I"
      }
    },
    {
      "cell_type": "code",
      "source": [
        "# dot 함수 사용\n",
        "a = np.arange(1,7).reshape(2,3)\n",
        "b = np.transpose(a)\n",
        "\n",
        "a.dot(b)"
      ],
      "metadata": {
        "id": "Cmgcbz2waXMP"
      },
      "execution_count": null,
      "outputs": []
    },
    {
      "cell_type": "markdown",
      "source": [],
      "metadata": {
        "id": "nQQYKK0geB9M"
      }
    },
    {
      "cell_type": "markdown",
      "source": [
        "## 문제 - 4\n",
        "### 다음 배열을 입력하고, 색칠된 부분을 출력하는 프로그램을 작성하시오.\n",
        "<img src='https://drive.google.com/uc?export=view&id=1QiNVqur5-lENiOGEy03nVQKxvZc8UtcT' width=300>\n",
        "\n"
      ],
      "metadata": {
        "id": "c-gwxhbOZpam"
      }
    },
    {
      "cell_type": "code",
      "source": [
        "import numpy as np\n",
        "\n",
        "# 1부터 16까지 값을 가지는 1차원 배열 생성\n",
        "arr = np.arange(1, 17)\n",
        "\n",
        "# 배열을 4x4 형태로 변경\n",
        "arr_reshaped = arr.reshape(4, 4)\n",
        "\n",
        "# 배열을 전치하여 열과 행을 뒤집음\n",
        "arr_transpose = np.transpose(arr_reshaped)\n",
        "\n",
        "# [6,10],[7,11] 값을 나타내도록 슬라이싱\n",
        "sliced_arr = arr_transpose[1:3, 1:3]\n",
        "\n",
        "print(sliced_arr)"
      ],
      "metadata": {
        "id": "hGYtifx1aXt_"
      },
      "execution_count": null,
      "outputs": []
    },
    {
      "cell_type": "markdown",
      "source": [],
      "metadata": {
        "id": "HSpE6nxQa0C5"
      }
    }
  ]
}